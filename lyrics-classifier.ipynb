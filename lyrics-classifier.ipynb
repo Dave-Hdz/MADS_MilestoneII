{
 "cells": [
  {
   "cell_type": "code",
   "execution_count": 18,
   "metadata": {},
   "outputs": [],
   "source": [
    "import pandas as pd\n",
    "import numpy\n",
    "from sklearn.feature_extraction.text import TfidfVectorizer\n",
    "from sklearn.model_selection import train_test_split\n",
    "from sklearn.feature_extraction.text import CountVectorizer\n",
    "from sklearn.feature_extraction.text import TfidfTransformer\n",
    "from sklearn.naive_bayes import MultinomialNB\n",
    "from sklearn.linear_model import LogisticRegression\n",
    "from sklearn.ensemble import RandomForestClassifier\n",
    "from sklearn.svm import LinearSVC\n",
    "from sklearn.model_selection import cross_val_score\n",
    "import seaborn as sns\n",
    "import matplotlib.pyplot as plt\n",
    "from sklearn.metrics import accuracy_score, confusion_matrix\n",
    "from nltk.corpus import stopwords\n",
    "import gensim\n",
    "from gensim.models import Word2Vec\n",
    "#nltk.download('stopwords')"
   ]
  },
  {
   "cell_type": "code",
   "execution_count": 6,
   "metadata": {},
   "outputs": [],
   "source": [
    "def remove_stop_words(text):\n",
    "    word_list = text.split()\n",
    "    without_stop_words = ' '.join(word for word in word_list if word not in stopwords.words('english'))\n",
    "    return without_stop_words\n",
    "\n"
   ]
  },
  {
   "cell_type": "code",
   "execution_count": 7,
   "metadata": {},
   "outputs": [],
   "source": [
    "genres = ['blues','country', 'electronic_complete', 'heavy-metal', 'hip-hop', 'indie', 'k-pop', 'pop',\n",
    "               'punk', 'reggae', 'reggaeton_complete', 'rock', 'r-n-b', 'salsa_complete']\n",
    "\n",
    "#genres = ['electronic_complete','reggaeton_complete','salsa_complete']\n",
    "\n",
    "all_data = pd.DataFrame([])\n",
    "for count,genre in enumerate(genres):\n",
    "    try:\n",
    "        data = pd.read_csv(\"data/{genre}_lyrics.csv\".format(genre=genre))\n",
    "    except:\n",
    "        continue\n",
    "    if count == 0:\n",
    "        all_data = data\n",
    "    else:\n",
    "        all_data = pd.concat([all_data,data],axis=0)"
   ]
  },
  {
   "cell_type": "code",
   "execution_count": 8,
   "metadata": {},
   "outputs": [
    {
     "name": "stderr",
     "output_type": "stream",
     "text": [
      "<ipython-input-8-0a058559340c>:2: SettingWithCopyWarning: \n",
      "A value is trying to be set on a copy of a slice from a DataFrame.\n",
      "Try using .loc[row_indexer,col_indexer] = value instead\n",
      "\n",
      "See the caveats in the documentation: https://pandas.pydata.org/pandas-docs/stable/user_guide/indexing.html#returning-a-view-versus-a-copy\n",
      "  df['lyrics_n'] = df['lyrics'].apply(remove_stop_words)\n"
     ]
    }
   ],
   "source": [
    "df = all_data[~all_data['lyrics'].isnull()]\n",
    "df['lyrics_n'] = df['lyrics'].apply(remove_stop_words)"
   ]
  },
  {
   "cell_type": "code",
   "execution_count": 9,
   "metadata": {},
   "outputs": [],
   "source": [
    "tfidf = TfidfVectorizer(sublinear_tf=True, min_df=1, norm='l2', encoding='latin-1', ngram_range=(1, 2))\n",
    "features = tfidf.fit_transform(df.lyrics).toarray()\n",
    "labels = df.song_genre"
   ]
  },
  {
   "cell_type": "markdown",
   "metadata": {},
   "source": [
    "models = [\n",
    "    RandomForestClassifier(n_estimators=200, max_depth=3, random_state=0),\n",
    "    LinearSVC(),\n",
    "    MultinomialNB(),\n",
    "    LogisticRegression(random_state=0),\n",
    "]\n",
    "CV = 5\n",
    "cv_df = pd.DataFrame(index=range(CV * len(models)))\n",
    "entries = []\n",
    "for model in models:\n",
    "    model_name = model.__class__.__name__\n",
    "    accuracies = cross_val_score(model, features, labels, scoring='accuracy', cv=CV)\n",
    "    for fold_idx, accuracy in enumerate(accuracies):\n",
    "        entries.append((model_name, fold_idx, accuracy))\n",
    "    \n",
    "cv_df = pd.DataFrame(entries, columns=['model_name', 'fold_idx', 'accuracy'])\n",
    "sns.boxplot(x='model_name', y='accuracy', data=cv_df)\n",
    "sns.stripplot(x='model_name', y='accuracy', data=cv_df, \n",
    "              size=8, jitter=True, edgecolor=\"gray\", linewidth=2)\n",
    "plt.show()"
   ]
  },
  {
   "cell_type": "code",
   "execution_count": 10,
   "metadata": {},
   "outputs": [],
   "source": [
    "X = df.lyrics_n\n",
    "y = df.song_genre\n",
    "X_train, X_test, y_train, y_test = train_test_split(X, y, test_size=0.3, random_state = 42)\n"
   ]
  },
  {
   "cell_type": "code",
   "execution_count": 11,
   "metadata": {},
   "outputs": [
    {
     "name": "stdout",
     "output_type": "stream",
     "text": [
      "accuracy 0.3998827323365582\n",
      "                     precision    recall  f1-score   support\n",
      "\n",
      "              blues       0.90      0.15      0.26       248\n",
      "            country       0.29      0.86      0.44       281\n",
      "electronic_complete       0.75      0.01      0.02       239\n",
      "        heavy-metal       0.90      0.16      0.27       179\n",
      "            hip-hop       0.56      0.80      0.66       268\n",
      "              indie       0.24      0.22      0.23       282\n",
      "              k-pop       0.34      0.86      0.49       173\n",
      "                pop       0.26      0.35      0.30       288\n",
      "               punk       0.23      0.03      0.05       234\n",
      "             reggae       0.34      0.24      0.28       213\n",
      " reggaeton_complete       0.94      0.32      0.48       186\n",
      "               rock       0.64      0.87      0.74       280\n",
      "              r-n-b       0.21      0.24      0.22       261\n",
      "     salsa_complete       0.91      0.36      0.52       279\n",
      "\n",
      "           accuracy                           0.40      3411\n",
      "          macro avg       0.54      0.39      0.35      3411\n",
      "       weighted avg       0.52      0.40      0.36      3411\n",
      "\n"
     ]
    }
   ],
   "source": [
    "from sklearn.naive_bayes import MultinomialNB\n",
    "from sklearn.pipeline import Pipeline\n",
    "from sklearn.feature_extraction.text import TfidfTransformer\n",
    "\n",
    "nb = Pipeline([('vect', CountVectorizer()),\n",
    "               ('tfidf', TfidfTransformer()),\n",
    "               ('clf', MultinomialNB()),\n",
    "              ])\n",
    "nb.fit(X_train, y_train)\n",
    "\n",
    "from sklearn.metrics import classification_report\n",
    "y_pred = nb.predict(X_test)\n",
    "\n",
    "print('accuracy %s' % accuracy_score(y_pred, y_test))\n",
    "print(classification_report(y_test, y_pred,target_names=genres))"
   ]
  },
  {
   "cell_type": "code",
   "execution_count": 12,
   "metadata": {},
   "outputs": [
    {
     "name": "stdout",
     "output_type": "stream",
     "text": [
      "accuracy 0.46672530049838756\n",
      "                     precision    recall  f1-score   support\n",
      "\n",
      "              blues       0.47      0.50      0.48       248\n",
      "            country       0.52      0.70      0.60       281\n",
      "electronic_complete       0.33      0.18      0.23       239\n",
      "        heavy-metal       0.49      0.75      0.59       179\n",
      "            hip-hop       0.54      0.82      0.65       268\n",
      "              indie       0.23      0.11      0.14       282\n",
      "              k-pop       0.35      0.98      0.52       173\n",
      "                pop       0.32      0.11      0.16       288\n",
      "               punk       0.28      0.21      0.24       234\n",
      "             reggae       0.37      0.32      0.34       213\n",
      " reggaeton_complete       0.68      0.62      0.65       186\n",
      "               rock       0.65      0.83      0.73       280\n",
      "              r-n-b       0.24      0.17      0.20       261\n",
      "     salsa_complete       0.79      0.48      0.60       279\n",
      "\n",
      "           accuracy                           0.47      3411\n",
      "          macro avg       0.45      0.48      0.44      3411\n",
      "       weighted avg       0.45      0.47      0.43      3411\n",
      "\n"
     ]
    }
   ],
   "source": [
    "from sklearn.linear_model import SGDClassifier\n",
    "\n",
    "sgd = Pipeline([('vect', CountVectorizer()),\n",
    "                ('tfidf', TfidfTransformer()),\n",
    "                ('clf', SGDClassifier(loss='hinge', penalty='l2',alpha=1e-3, random_state=42, max_iter=5, tol=None)),\n",
    "               ])\n",
    "sgd.fit(X_train, y_train)\n",
    "\n",
    "y_pred = sgd.predict(X_test)\n",
    "\n",
    "print('accuracy %s' % accuracy_score(y_pred, y_test))\n",
    "print(classification_report(y_test, y_pred,target_names=genres))"
   ]
  },
  {
   "cell_type": "code",
   "execution_count": 13,
   "metadata": {},
   "outputs": [
    {
     "name": "stderr",
     "output_type": "stream",
     "text": [
      "/Users/charithtammineedi/opt/anaconda3/lib/python3.8/site-packages/sklearn/linear_model/_logistic.py:762: ConvergenceWarning: lbfgs failed to converge (status=1):\n",
      "STOP: TOTAL NO. of ITERATIONS REACHED LIMIT.\n",
      "\n",
      "Increase the number of iterations (max_iter) or scale the data as shown in:\n",
      "    https://scikit-learn.org/stable/modules/preprocessing.html\n",
      "Please also refer to the documentation for alternative solver options:\n",
      "    https://scikit-learn.org/stable/modules/linear_model.html#logistic-regression\n",
      "  n_iter_i = _check_optimize_result(\n"
     ]
    },
    {
     "name": "stdout",
     "output_type": "stream",
     "text": [
      "accuracy 0.4377015537965406\n",
      "                     precision    recall  f1-score   support\n",
      "\n",
      "              blues       0.50      0.42      0.46       248\n",
      "            country       0.62      0.56      0.59       281\n",
      "electronic_complete       0.30      0.27      0.28       239\n",
      "        heavy-metal       0.64      0.54      0.58       179\n",
      "            hip-hop       0.58      0.50      0.54       268\n",
      "              indie       0.22      0.23      0.23       282\n",
      "              k-pop       0.37      0.97      0.53       173\n",
      "                pop       0.20      0.22      0.21       288\n",
      "               punk       0.25      0.22      0.23       234\n",
      "             reggae       0.30      0.32      0.31       213\n",
      " reggaeton_complete       0.82      0.49      0.61       186\n",
      "               rock       0.78      0.77      0.77       280\n",
      "              r-n-b       0.18      0.17      0.18       261\n",
      "     salsa_complete       0.79      0.61      0.69       279\n",
      "\n",
      "           accuracy                           0.44      3411\n",
      "          macro avg       0.47      0.45      0.44      3411\n",
      "       weighted avg       0.46      0.44      0.44      3411\n",
      "\n"
     ]
    }
   ],
   "source": [
    "from sklearn.linear_model import LogisticRegression\n",
    "\n",
    "logreg = Pipeline([('vect', CountVectorizer()),\n",
    "                ('tfidf', TfidfTransformer()),\n",
    "                ('clf', LogisticRegression(n_jobs=1, C=1e5)),\n",
    "               ])\n",
    "logreg.fit(X_train, y_train)\n",
    "\n",
    "\n",
    "\n",
    "y_pred = logreg.predict(X_test)\n",
    "\n",
    "print('accuracy %s' % accuracy_score(y_pred, y_test))\n",
    "print(classification_report(y_test, y_pred,target_names=genres))"
   ]
  },
  {
   "cell_type": "code",
   "execution_count": 20,
   "metadata": {},
   "outputs": [
    {
     "name": "stderr",
     "output_type": "stream",
     "text": [
      "<ipython-input-20-5edad9482baf>:2: DeprecationWarning: Call to deprecated `init_sims` (Use fill_norms() instead. See https://github.com/RaRe-Technologies/gensim/wiki/Migrating-from-Gensim-3.x-to-4).\n",
      "  wv.init_sims(replace=True)\n"
     ]
    }
   ],
   "source": [
    "wv = gensim.models.KeyedVectors.load_word2vec_format(\"GoogleNews-vectors-negative300.bin.gz\", binary=True)\n",
    "wv.init_sims(replace=True)"
   ]
  }
 ],
 "metadata": {
  "kernelspec": {
   "display_name": "Python 3",
   "language": "python",
   "name": "python3"
  },
  "language_info": {
   "codemirror_mode": {
    "name": "ipython",
    "version": 3
   },
   "file_extension": ".py",
   "mimetype": "text/x-python",
   "name": "python",
   "nbconvert_exporter": "python",
   "pygments_lexer": "ipython3",
   "version": "3.8.5"
  }
 },
 "nbformat": 4,
 "nbformat_minor": 4
}
